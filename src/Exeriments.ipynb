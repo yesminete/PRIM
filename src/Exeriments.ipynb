{
 "cells": [
  {
   "cell_type": "markdown",
   "metadata": {},
   "source": [
    "1. PREPROCESS"
   ]
  },
  {
   "cell_type": "code",
   "execution_count": 1,
   "metadata": {},
   "outputs": [
    {
     "name": "stdout",
     "output_type": "stream",
     "text": [
      "Preprocess module imported successfully!\n"
     ]
    }
   ],
   "source": [
    "%run setup_imports.py\n",
    "import os\n",
    "import pandas as pd"
   ]
  },
  {
   "cell_type": "code",
   "execution_count": null,
   "metadata": {},
   "outputs": [],
   "source": [
    "# Preprocessing input data\n",
    "input_folder = r'C:\\PRIM\\dataset\\inputs'\n",
    "output_folder = r'C:\\PRIM\\dataset\\inputs_preprocessed'\n",
    "\n",
    "os.makedirs(output_folder, exist_ok=True)\n",
    "\n",
    "for file_name in os.listdir(input_folder):\n",
    "    if file_name.endswith(\".xml\"):  \n",
    "        input_xml_path = os.path.join(input_folder, file_name)\n",
    "\n",
    "        print(f\"Processing: {input_xml_path}\")\n",
    "\n",
    "        # Preprocess the file\n",
    "        tree = preprocess.load_xml(input_xml_path)\n",
    "        extracted_data = preprocess.extract_data_from_input(tree)\n",
    "        df = preprocess.data_to_dataframe(extracted_data)\n",
    "        df_interpolated = preprocess.interpolate_data_with_flag(df)\n",
    "        df_normalized = preprocess.normalize(df_interpolated)\n",
    "        output_csv_path = os.path.join(output_folder, file_name.replace(\".xml\", \"_preprocessed.csv\"))\n",
    "        preprocess.save_data(df_normalized, output_csv_path)\n",
    "\n",
    "        print(f\"Saved preprocessed file to: {output_csv_path}\")\n"
   ]
  },
  {
   "cell_type": "code",
   "execution_count": null,
   "metadata": {},
   "outputs": [],
   "source": [
    "# Preprocessing output data\n",
    "\n",
    "input_folder = r'C:\\PRIM\\dataset\\outputs'\n",
    "output_folder = r'C:\\PRIM\\dataset\\outputs_preprocessed'\n",
    "os.makedirs(output_folder, exist_ok=True)\n",
    "desired_columns = [\n",
    "    'frame', 'stroke', 'player 1', 'player 2',\n",
    "    'backhand', 'forehand', 'serve', 'ball pass',\n",
    "    'point', 'mistake', 'void serve'\n",
    "]\n",
    "\n",
    "for file_name in os.listdir(input_folder):\n",
    "    if file_name.endswith(\".xml\"):  \n",
    "        input_xml_path = os.path.join(input_folder, file_name)\n",
    "        print(f\"Processing: {input_xml_path}\")\n",
    "        tree = preprocess.load_xml(input_xml_path)\n",
    "        extracted_data = preprocess.extract_data_from_output(tree)\n",
    "        df = preprocess.data_to_dataframe(extracted_data)\n",
    "        df['stroke'] = df['player 1'] + df['player 2']\n",
    "        df['void serve'] = df['let serve'] + df['void serve']\n",
    "        df = df[desired_columns]\n",
    "        output_csv_path = os.path.join(output_folder, file_name.replace(\".xml\", \"_preprocessed.csv\"))\n",
    "        preprocess.save_data(df, output_csv_path)\n",
    "        print(f\"Saved preprocessed file to: {output_csv_path}\")\n"
   ]
  },
  {
   "cell_type": "code",
   "execution_count": null,
   "metadata": {},
   "outputs": [],
   "source": []
  }
 ],
 "metadata": {
  "kernelspec": {
   "display_name": "PRIM",
   "language": "python",
   "name": "python3"
  },
  "language_info": {
   "codemirror_mode": {
    "name": "ipython",
    "version": 3
   },
   "file_extension": ".py",
   "mimetype": "text/x-python",
   "name": "python",
   "nbconvert_exporter": "python",
   "pygments_lexer": "ipython3",
   "version": "3.10.16"
  }
 },
 "nbformat": 4,
 "nbformat_minor": 2
}
